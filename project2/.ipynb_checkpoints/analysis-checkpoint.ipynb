{
 "cells": [
  {
   "cell_type": "code",
   "execution_count": 64,
   "metadata": {},
   "outputs": [],
   "source": [
    "import pandas as pd\n",
    "from vaderSentiment.vaderSentiment import SentimentIntensityAnalyzer\n",
    "analyzer = SentimentIntensityAnalyzer()\n",
    "from googletrans import Translator\n",
    "translator = Translator()"
   ]
  },
  {
   "cell_type": "code",
   "execution_count": 65,
   "metadata": {
    "collapsed": true
   },
   "outputs": [],
   "source": [
    "path = \"data/reviews.csv\"\n",
    "df = pd.read_csv(path)\n",
    "listing_df = pd.read_csv(\"data/listings.csv\")"
   ]
  },
  {
   "cell_type": "code",
   "execution_count": 66,
   "metadata": {
    "collapsed": true,
    "scrolled": true
   },
   "outputs": [],
   "source": [
    "merged_df = df.merge(listing_df, left_on='listing_id', right_on='id')"
   ]
  },
  {
   "cell_type": "code",
   "execution_count": 67,
   "metadata": {
    "collapsed": true
   },
   "outputs": [],
   "source": [
    "merged_df = merged_df[['listing_id', 'comments', 'neighbourhood_cleansed', 'zipcode', 'longitude', 'latitude']]"
   ]
  },
  {
   "cell_type": "code",
   "execution_count": 68,
   "metadata": {},
   "outputs": [],
   "source": [
    "#for i in merged_df['comments']:\n",
    "    #print(translator.translate(i))\n",
    "    #merged_df['comments'].replace(i,str(to_english.text), inplace = True)"
   ]
  },
  {
   "cell_type": "code",
   "execution_count": 69,
   "metadata": {},
   "outputs": [],
   "source": [
    "sentiment_list=[]\n",
    "for i in merged_df['comments']:\n",
    "    score = analyzer.polarity_scores(str(i))[\"compound\"]\n",
    "    sentiment_list.append(score)\n",
    "merged_df[\"sentiment_score\"]=sentiment_list"
   ]
  },
  {
   "cell_type": "code",
   "execution_count": 70,
   "metadata": {},
   "outputs": [],
   "source": [
    "#merged_df = merged_df.groupby(merged_df['neighbourhood_cleansed'])['sentiment_score'].mean()\n",
    "#merged_df = pd.DataFrame(merged_df)\n",
    "merged_df.to_csv(\"sentiment_analysis.csv\")"
   ]
  },
  {
   "cell_type": "code",
   "execution_count": 72,
   "metadata": {},
   "outputs": [
    {
     "name": "stdout",
     "output_type": "stream",
     "text": [
      "<class 'pandas.core.frame.DataFrame'>\n",
      "Int64Index: 152548 entries, 0 to 152547\n",
      "Data columns (total 7 columns):\n",
      "listing_id                152548 non-null int64\n",
      "comments                  152423 non-null object\n",
      "neighbourhood_cleansed    152548 non-null object\n",
      "zipcode                   151635 non-null object\n",
      "longitude                 152548 non-null float64\n",
      "latitude                  152548 non-null float64\n",
      "sentiment_score           152548 non-null float64\n",
      "dtypes: float64(3), int64(1), object(3)\n",
      "memory usage: 9.3+ MB\n"
     ]
    }
   ],
   "source": [
    "merged_df.info()"
   ]
  },
  {
   "cell_type": "code",
   "execution_count": null,
   "metadata": {
    "collapsed": true
   },
   "outputs": [],
   "source": []
  }
 ],
 "metadata": {
  "kernelspec": {
   "display_name": "Python 3",
   "language": "python",
   "name": "python3"
  },
  "language_info": {
   "codemirror_mode": {
    "name": "ipython",
    "version": 3
   },
   "file_extension": ".py",
   "mimetype": "text/x-python",
   "name": "python",
   "nbconvert_exporter": "python",
   "pygments_lexer": "ipython3",
   "version": "3.6.1"
  }
 },
 "nbformat": 4,
 "nbformat_minor": 2
}
